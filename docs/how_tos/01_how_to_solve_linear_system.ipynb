{
 "cells": [
  {
   "attachments": {},
   "cell_type": "markdown",
   "id": "55c4879d",
   "metadata": {},
   "source": [
    "# How to solve a linear system using VQLS\n",
    "\n",
    "This how-to guide explain how to sovle a linear systems of equations using VQLS"
   ]
  },
  {
   "attachments": {},
   "cell_type": "markdown",
   "id": "20467d44",
   "metadata": {},
   "source": [
    "## Step 1: Create your linear system\n",
    "\n",
    "A linear system of equation is defined by a matrix $A$ and a vector $b$ that together define the linear system $A\\times x = b$. The goal is of course to determine the value of the vector $x$. VQLS only works for symmetric matrices, i.e. $A^\\dagger = A$. Let's first generate a random matrix $A$ and a random vector $b$."
   ]
  },
  {
   "cell_type": "code",
   "execution_count": null,
   "id": "355aaad6",
   "metadata": {},
   "outputs": [],
   "source": [
    "import numpy as np\n",
    "\n",
    "# size of the system\n",
    "size = 4\n",
    "\n",
    "# matrix of the linear system\n",
    "A = np.random.rand(size, size)\n",
    "# A = A + A.T\n",
    "\n",
    "# right hand side of the linear system\n",
    "b = np.random.rand(size)"
   ]
  },
  {
   "cell_type": "code",
   "execution_count": null,
   "id": "d23e0659",
   "metadata": {},
   "outputs": [],
   "source": []
  },
  {
   "attachments": {},
   "cell_type": "markdown",
   "id": "4241429f",
   "metadata": {},
   "source": [
    "## Step 2 : Define the variational ansatz\n",
    "\n",
    "As all variational algorithms, VQLS uses a variational circuits called an ansatz and usually denoted $V(\\theta)$ to solve the problem at hand. During the optimization, the parameters of the ansatz ($\\theta$) are gradually modified to minimze a cost function. In VQLS the ansatz creates a proposed solution vector $|x\\rangle$ from the $|0\\rangle$ state: \n",
    "\n",
    "$$|x\\rangle = V(\\theta)|0\\rangle$$\n",
    "\n",
    "The choice of the ansatz is therefore important as the true solution vector must be within reach for a give values of the parameters. In this tutorial we will use one of the predefined variational circuits contained in qiskit, the `RealAmplitude` circuit."
   ]
  },
  {
   "cell_type": "code",
   "execution_count": null,
   "id": "bf34c6e9",
   "metadata": {},
   "outputs": [],
   "source": [
    "from qiskit.circuit.library.n_local.real_amplitudes import RealAmplitudes\n",
    "\n",
    "nqbit = int(np.log2(size))\n",
    "ansatz = RealAmplitudes(nqbit, entanglement=\"full\", reps=3, insert_barriers=False)\n",
    "ansatz.decompose().draw(\"mpl\")"
   ]
  },
  {
   "attachments": {},
   "cell_type": "markdown",
   "id": "c1248133",
   "metadata": {},
   "source": [
    "## Step 3 : Instantiate the VQLS solver\n",
    "\n",
    "We can now use the VQLS solver to obtain a solution of the linear system $A\\times x = b$. "
   ]
  },
  {
   "cell_type": "code",
   "execution_count": null,
   "id": "dd8ff872",
   "metadata": {},
   "outputs": [],
   "source": [
    "from vqls_prototype import VQLS, VQLSLog\n",
    "from qiskit.primitives import Estimator\n",
    "from qiskit_algorithms import optimizers as opt\n",
    "\n",
    "# instantiate an estimator primitive\n",
    "estimator = Estimator()\n",
    "\n",
    "# create a logger\n",
    "log = VQLSLog([], [])\n",
    "\n",
    "# create the vqls solver\n",
    "options = {\"matrix_decomposition\": \"pauli\", \"verbose\": True}\n",
    "vqls = VQLS(estimator, ansatz, opt.CG(maxiter=200), options=options)"
   ]
  },
  {
   "attachments": {},
   "cell_type": "markdown",
   "id": "6b25b571",
   "metadata": {},
   "source": [
    "## Step 4 : Solve the system of equations\n",
    "\n",
    "The solver can easily be used to obtain a solution"
   ]
  },
  {
   "cell_type": "code",
   "execution_count": null,
   "id": "f759ea21",
   "metadata": {},
   "outputs": [],
   "source": [
    "res = vqls.solve(A, b)"
   ]
  },
  {
   "attachments": {},
   "cell_type": "markdown",
   "id": "ea68011b",
   "metadata": {},
   "source": [
    "## Step 5 : Visualize the evolution of the loss function\n",
    "\n",
    "We can use the values logged in our dedicated logger to visualize how the value of the cost function evolves during the optimization process.  "
   ]
  },
  {
   "cell_type": "code",
   "execution_count": null,
   "id": "ba52810c",
   "metadata": {},
   "outputs": [],
   "source": [
    "import matplotlib.pyplot as plt\n",
    "\n",
    "plt.semilogy(vqls.logger.values)\n",
    "plt.ylabel(\"Cost Function\")\n",
    "plt.xlabel(\"Iterations\")"
   ]
  },
  {
   "attachments": {},
   "cell_type": "markdown",
   "id": "37e4269c",
   "metadata": {},
   "source": [
    "## Step 6 : validate the solution vector\n",
    "\n",
    "The solution vector is now encoded in the state created by the variational circuit. We can access this vector and verify that the solution vector solves the linear system "
   ]
  },
  {
   "cell_type": "code",
   "execution_count": null,
   "id": "ffbc4d48",
   "metadata": {},
   "outputs": [],
   "source": [
    "from qiskit.quantum_info import Statevector\n",
    "\n",
    "vqls_solution = np.real(Statevector(res.state).data)"
   ]
  },
  {
   "attachments": {},
   "cell_type": "markdown",
   "id": "1a240147",
   "metadata": {},
   "source": [
    "We can now compute the solution using `numpy.linalg.solve` and compare the solutions given by the two methods"
   ]
  },
  {
   "cell_type": "code",
   "execution_count": null,
   "id": "8bbeb7f6",
   "metadata": {},
   "outputs": [],
   "source": [
    "ref_solution = np.linalg.solve(A, b / np.linalg.norm(b))\n",
    "ref_solution = ref_solution / np.linalg.norm(ref_solution)\n",
    "\n",
    "plt.scatter(ref_solution, vqls_solution)\n",
    "plt.plot([-1, 1], [-1, 1], \"--\")"
   ]
  },
  {
   "cell_type": "code",
   "execution_count": null,
   "id": "d7b9a831",
   "metadata": {},
   "outputs": [],
   "source": []
  }
 ],
 "metadata": {
  "kernelspec": {
   "display_name": "Python 3",
   "language": "python",
   "name": "python3"
  },
  "language_info": {
   "codemirror_mode": {
    "name": "ipython",
    "version": 3
   },
   "file_extension": ".py",
   "mimetype": "text/x-python",
   "name": "python",
   "nbconvert_exporter": "python",
   "pygments_lexer": "ipython3",
   "version": "3.9.0"
  }
 },
 "nbformat": 4,
 "nbformat_minor": 5
}
